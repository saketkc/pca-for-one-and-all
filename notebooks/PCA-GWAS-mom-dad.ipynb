{
 "cells": [
  {
   "cell_type": "code",
   "execution_count": 1,
   "metadata": {},
   "outputs": [
    {
     "name": "stdout",
     "output_type": "stream",
     "text": [
      "Populating the interactive namespace from numpy and matplotlib\n",
      "(6, 10000)\n"
     ]
    },
    {
     "name": "stderr",
     "output_type": "stream",
     "text": [
      "/home/cmb-panasas2/skchoudh/software_frozen/anaconda27/envs/riboraptor/lib/python3.6/site-packages/matplotlib/figure.py:2267: UserWarning: This figure includes Axes that are not compatible with tight_layout, so results might be incorrect.\n",
      "  warnings.warn(\"This figure includes Axes that are not compatible \"\n"
     ]
    },
    {
     "data": {
      "image/png": "[encoded data removed]",
      "text/plain": [
       "<Figure size 576x576 with 1 Axes>"
      ]
     },
     "metadata": {
      "needs_background": "light"
     },
     "output_type": "display_data"
    }
   ],
   "source": [
    "%pylab inline\n",
    "\n",
    "import numpy as np\n",
    "import matplotlib.pyplot as plt\n",
    "from matplotlib.pyplot import cm\n",
    "import seaborn as sns\n",
    "from matplotlib.ticker import ScalarFormatter, AutoMinorLocator\n",
    "mpl.rcParams['grid.color'] = 'k'\n",
    "mpl.rcParams['grid.linestyle'] = ':'\n",
    "mpl.rcParams['grid.linewidth'] = 0.5\n",
    "mpl.rcParams['font.size'] = 32\n",
    "mpl.rcParams['figure.autolayout'] = True\n",
    "mpl.rcParams['figure.figsize'] = (7.2,4.45)\n",
    "mpl.rcParams['axes.titlesize'] = 32\n",
    "mpl.rcParams['axes.labelsize'] = 32\n",
    "mpl.rcParams['lines.linewidth'] = 2\n",
    "mpl.rcParams['lines.markersize'] = 12\n",
    "mpl.rcParams['legend.fontsize'] = 13\n",
    "mpl.rcParams['mathtext.fontset'] = 'stix'      \n",
    "mpl.rcParams['font.family'] = 'STIXGeneral'\n",
    "mpl.rcParams['lines.linewidth'] = 3.5\n",
    "mpl.rcParams['xtick.labelsize'] = 32\n",
    "mpl.rcParams['ytick.labelsize'] = 32\n",
    "mpl.rcParams['legend.fontsize'] = 32\n",
    "\n",
    "def setup_axis(ax):\n",
    "    ax.set_xlabel('')\n",
    "    ax.yaxis.set_major_formatter(ScalarFormatter())\n",
    "    ax.yaxis.major.formatter._useMathText = True\n",
    "    ax.yaxis.set_minor_locator(  AutoMinorLocator(5))\n",
    "    ax.xaxis.set_minor_locator(  AutoMinorLocator(5))\n",
    "    ax.tick_params(direction='out', length=12, \n",
    "                   width=2, \n",
    "                   grid_alpha=0.5)\n",
    "    ax.tick_params(direction='out', which='minor', length=6, \n",
    "                   width=1, \n",
    "                   grid_alpha=0.5)\n",
    "    ax.grid(True)\n",
    "    \n",
    "\n",
    "def simulate_data(n = 10, \n",
    "                  p = 10000, \n",
    "                  division_factor = 2,\n",
    "                  seed = 42):\n",
    "    np.random.seed(seed)\n",
    "    X1 = np.random.randn(n, p)  \n",
    "    X2 = np.random.randn(n, p)\n",
    "    X3 = (X1+X2)/division_factor\n",
    "    \n",
    "    X = np.empty((X1.shape[0] + X2.shape[0] + X3.shape[0], X1.shape[1]), dtype=X1.dtype)\n",
    "    print(X.shape)\n",
    "    X[0::3,:] = X1\n",
    "    X[1::3,:] = X2\n",
    "    X[2::3,:] = X3\n",
    "    X = X - np.mean(X, axis=0)\n",
    "    U, s, V = np.linalg.svd(X, full_matrices=False)\n",
    "    X = U @ np.diag(s)\n",
    "    return X\n",
    "\n",
    "\n",
    "n = 2\n",
    "fig, ax = plt.subplots(figsize=(8, 8))\n",
    "X = simulate_data(n, division_factor = 200)\n",
    "for i in range(n):\n",
    "    color = sns.color_palette(\"tab20\")[i]\n",
    "    plt.scatter(X[i*3,0], X[i*3,1], marker='s', color=color)\n",
    "    plt.scatter(X[i*3+1,0], X[i*3+1,1], marker='^', color=color)\n",
    "    plt.scatter(X[i*3+2,0], X[i*3+2,1], marker='.', color=color)\n",
    "    \n",
    "fig.tight_layout()\n"
   ]
  },
  {
   "cell_type": "code",
   "execution_count": 2,
   "metadata": {},
   "outputs": [
    {
     "name": "stdout",
     "output_type": "stream",
     "text": [
      "(6, 10000)\n"
     ]
    },
    {
     "name": "stderr",
     "output_type": "stream",
     "text": [
      "/home/cmb-panasas2/skchoudh/software_frozen/anaconda27/envs/riboraptor/lib/python3.6/site-packages/matplotlib/figure.py:2267: UserWarning: This figure includes Axes that are not compatible with tight_layout, so results might be incorrect.\n",
      "  warnings.warn(\"This figure includes Axes that are not compatible \"\n"
     ]
    },
    {
     "data": {
      "image/png": "[encoded data removed]",
      "text/plain": [
       "<Figure size 576x576 with 1 Axes>"
      ]
     },
     "metadata": {
      "needs_background": "light"
     },
     "output_type": "display_data"
    }
   ],
   "source": [
    "fig, ax = plt.subplots(figsize=(8, 8))\n",
    "X = simulate_data(n, division_factor = np.sqrt(2))\n",
    "for i in range(n):\n",
    "    color = sns.color_palette(\"tab20\")[i]\n",
    "    plt.scatter(X[i*3,0], X[i*3,1], marker='s', color=color)\n",
    "    plt.scatter(X[i*3+1,0], X[i*3+1,1], marker='^', color=color)\n",
    "    plt.scatter(X[i*3+2,0], X[i*3+2,1], marker='.', color=color)\n",
    "    \n",
    "fig.tight_layout()"
   ]
  },
  {
   "cell_type": "code",
   "execution_count": null,
   "metadata": {},
   "outputs": [],
   "source": []
  }
 ],
 "metadata": {
  "kernelspec": {
   "display_name": "Python (riboraptor)",
   "language": "python",
   "name": "riboraptor"
  },
  "language_info": {
   "codemirror_mode": {
    "name": "ipython",
    "version": 3
   },
   "file_extension": ".py",
   "mimetype": "text/x-python",
   "name": "python",
   "nbconvert_exporter": "python",
   "pygments_lexer": "ipython3",
   "version": "3.7.3"
  }
 },
 "nbformat": 4,
 "nbformat_minor": 4
}
