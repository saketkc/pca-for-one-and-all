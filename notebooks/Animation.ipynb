{
 "cells": [
  {
   "cell_type": "code",
   "execution_count": 2,
   "metadata": {},
   "outputs": [
    {
     "name": "stdout",
     "output_type": "stream",
     "text": [
      "Populating the interactive namespace from numpy and matplotlib\n"
     ]
    },
    {
     "name": "stderr",
     "output_type": "stream",
     "text": [
      "/home/cmb-panasas2/skchoudh/software_frozen/anaconda27/envs/pca/lib/python3.7/site-packages/IPython/core/magics/pylab.py:160: UserWarning:\n",
      "\n",
      "pylab import has clobbered these variables: ['figure']\n",
      "`%matplotlib` prevents importing * from pylab and numpy\n",
      "\n"
     ]
    },
    {
     "data": {
      "text/html": [
       "<script type=\"text/javascript\">window.PlotlyConfig = {MathJaxConfig: 'local'};</script><script type=\"text/javascript\">if (window.MathJax) {MathJax.Hub.Config({SVG: {font: \"STIX-Web\"}});}</script><script>requirejs.config({paths: { 'plotly': ['https://cdn.plot.ly/plotly-latest.min']},});if(!window._Plotly) {require(['plotly'],function(plotly) {window._Plotly=plotly;});}</script>"
      ],
      "text/vnd.plotly.v1+html": [
       "<script type=\"text/javascript\">window.PlotlyConfig = {MathJaxConfig: 'local'};</script><script type=\"text/javascript\">if (window.MathJax) {MathJax.Hub.Config({SVG: {font: \"STIX-Web\"}});}</script><script>requirejs.config({paths: { 'plotly': ['https://cdn.plot.ly/plotly-latest.min']},});if(!window._Plotly) {require(['plotly'],function(plotly) {window._Plotly=plotly;});}</script>"
      ]
     },
     "metadata": {},
     "output_type": "display_data"
    },
    {
     "data": {
      "application/vnd.plotly.v1+json": {
       "config": {
        "linkText": "Export to plot.ly",
        "plotlyServerURL": "https://plot.ly",
        "showLink": true
       },
       "data": [
        {
         "type": "scatter",
         "uid": "e5c4ec63-190d-4ba5-9e9b-84fb4888d7b9",
         "x": [
          0,
          1
         ],
         "y": [
          0,
          1
         ]
        }
       ],
       "frames": [
        {
         "data": [
          {
           "type": "scatter",
           "x": [
            1,
            2
           ],
           "y": [
            1,
            2
           ]
          }
         ]
        },
        {
         "data": [
          {
           "type": "scatter",
           "x": [
            1,
            4
           ],
           "y": [
            1,
            4
           ]
          }
         ]
        },
        {
         "data": [
          {
           "type": "scatter",
           "x": [
            3,
            4
           ],
           "y": [
            3,
            4
           ]
          }
         ],
         "layout": {
          "title": "End Title"
         }
        }
       ],
       "layout": {
        "autosize": true,
        "title": "Start Title",
        "xaxis": {
         "autorange": false,
         "range": [
          1.0952697226224783,
          1.9021861491354466
         ],
         "type": "linear"
        },
        "yaxis": {
         "autorange": false,
         "range": [
          0.9855324074074074,
          3.189236111111111
         ],
         "type": "linear"
        }
       }
      },
      "text/html": [
       "<div id=\"cd792dc2-778f-42f2-8219-2867ab3246ed\" style=\"height: 525px; width: 100%;\" class=\"plotly-graph-div\"></div><script type=\"text/javascript\">require([\"plotly\"], function(Plotly) { window.PLOTLYENV=window.PLOTLYENV || {};window.PLOTLYENV.BASE_URL=\"https://plot.ly\";\n",
       "        Plotly.plot(\n",
       "            'cd792dc2-778f-42f2-8219-2867ab3246ed',\n",
       "            [{\"x\": [0, 1], \"y\": [0, 1], \"type\": \"scatter\", \"uid\": \"30a3b412-e4b4-4d18-a1ed-95823ffa1825\"}],\n",
       "            {\"title\": \"Start Title\", \"xaxis\": {\"autorange\": false, \"range\": [0, 5]}, \"yaxis\": {\"autorange\": false, \"range\": [0, 5]}},\n",
       "            {\"showLink\": true, \"linkText\": \"Export to plot.ly\", \"plotlyServerURL\": \"https://plot.ly\"}\n",
       "        ).then(function () {return Plotly.addFrames('cd792dc2-778f-42f2-8219-2867ab3246ed',[{\"data\": [{\"x\": [1, 2], \"y\": [1, 2], \"type\": \"scatter\"}]}, {\"data\": [{\"x\": [1, 4], \"y\": [1, 4], \"type\": \"scatter\"}]}, {\"data\": [{\"x\": [3, 4], \"y\": [3, 4], \"type\": \"scatter\"}], \"layout\": {\"title\": \"End Title\"}}]);}).then(function(){Plotly.animate('cd792dc2-778f-42f2-8219-2867ab3246ed');})\n",
       "        });</script><script type=\"text/javascript\">window.addEventListener(\"resize\", function(){window._Plotly.Plots.resize(document.getElementById(\"cd792dc2-778f-42f2-8219-2867ab3246ed\"));});</script>"
      ],
      "text/vnd.plotly.v1+html": [
       "<div id=\"cd792dc2-778f-42f2-8219-2867ab3246ed\" style=\"height: 525px; width: 100%;\" class=\"plotly-graph-div\"></div><script type=\"text/javascript\">require([\"plotly\"], function(Plotly) { window.PLOTLYENV=window.PLOTLYENV || {};window.PLOTLYENV.BASE_URL=\"https://plot.ly\";\n",
       "        Plotly.plot(\n",
       "            'cd792dc2-778f-42f2-8219-2867ab3246ed',\n",
       "            [{\"x\": [0, 1], \"y\": [0, 1], \"type\": \"scatter\", \"uid\": \"30a3b412-e4b4-4d18-a1ed-95823ffa1825\"}],\n",
       "            {\"title\": \"Start Title\", \"xaxis\": {\"autorange\": false, \"range\": [0, 5]}, \"yaxis\": {\"autorange\": false, \"range\": [0, 5]}},\n",
       "            {\"showLink\": true, \"linkText\": \"Export to plot.ly\", \"plotlyServerURL\": \"https://plot.ly\"}\n",
       "        ).then(function () {return Plotly.addFrames('cd792dc2-778f-42f2-8219-2867ab3246ed',[{\"data\": [{\"x\": [1, 2], \"y\": [1, 2], \"type\": \"scatter\"}]}, {\"data\": [{\"x\": [1, 4], \"y\": [1, 4], \"type\": \"scatter\"}]}, {\"data\": [{\"x\": [3, 4], \"y\": [3, 4], \"type\": \"scatter\"}], \"layout\": {\"title\": \"End Title\"}}]);}).then(function(){Plotly.animate('cd792dc2-778f-42f2-8219-2867ab3246ed');})\n",
       "        });</script><script type=\"text/javascript\">window.addEventListener(\"resize\", function(){window._Plotly.Plots.resize(document.getElementById(\"cd792dc2-778f-42f2-8219-2867ab3246ed\"));});</script>"
      ]
     },
     "metadata": {},
     "output_type": "display_data"
    }
   ],
   "source": [
    "%pylab inline\n",
    "from plotly.offline import download_plotlyjs, init_notebook_mode, plot, iplot\n",
    "import plotly.graph_objs as go\n",
    "\n",
    "from plotly.offline import init_notebook_mode, iplot\n",
    "from IPython.display import display, HTML\n",
    "\n",
    "init_notebook_mode(connected=True)\n",
    "\n",
    "figure = {'data': [{'x': [0, 1], 'y': [0, 1]}],\n",
    "          'layout': {'xaxis': {'range': [0, 5], 'autorange': False},\n",
    "                     'yaxis': {'range': [0, 5], 'autorange': False},\n",
    "                     'title': 'Start Title'},\n",
    "          'frames': [{'data': [{'x': [1, 2], 'y': [1, 2]}]},\n",
    "                     {'data': [{'x': [1, 4], 'y': [1, 4]}]},\n",
    "                     {'data': [{'x': [3, 4], 'y': [3, 4]}],\n",
    "                      'layout': {'title': 'End Title'}}]}\n",
    "\n",
    "iplot(figure)\n"
   ]
  },
  {
   "cell_type": "code",
   "execution_count": 3,
   "metadata": {},
   "outputs": [
    {
     "data": {
      "text/html": [
       "<script type=\"text/javascript\">window.PlotlyConfig = {MathJaxConfig: 'local'};</script><script type=\"text/javascript\">if (window.MathJax) {MathJax.Hub.Config({SVG: {font: \"STIX-Web\"}});}</script><script>requirejs.config({paths: { 'plotly': ['https://cdn.plot.ly/plotly-latest.min']},});if(!window._Plotly) {require(['plotly'],function(plotly) {window._Plotly=plotly;});}</script>"
      ],
      "text/vnd.plotly.v1+html": [
       "<script type=\"text/javascript\">window.PlotlyConfig = {MathJaxConfig: 'local'};</script><script type=\"text/javascript\">if (window.MathJax) {MathJax.Hub.Config({SVG: {font: \"STIX-Web\"}});}</script><script>requirejs.config({paths: { 'plotly': ['https://cdn.plot.ly/plotly-latest.min']},});if(!window._Plotly) {require(['plotly'],function(plotly) {window._Plotly=plotly;});}</script>"
      ]
     },
     "metadata": {},
     "output_type": "display_data"
    },
    {
     "data": {
      "application/vnd.plotly.v1+json": {
       "config": {
        "linkText": "Export to plot.ly",
        "plotlyServerURL": "https://plot.ly",
        "showLink": true
       },
       "data": [
        {
         "type": "scatter",
         "uid": "d01bbdc7-ceaf-41f0-8799-9698e71472f8",
         "x": [
          0,
          1
         ],
         "y": [
          0,
          1
         ]
        }
       ],
       "frames": [
        {
         "data": [
          {
           "type": "scatter",
           "x": [
            1,
            2
           ],
           "y": [
            1,
            2
           ]
          }
         ]
        },
        {
         "data": [
          {
           "type": "scatter",
           "x": [
            1,
            4
           ],
           "y": [
            1,
            4
           ]
          }
         ]
        },
        {
         "data": [
          {
           "type": "scatter",
           "x": [
            3,
            4
           ],
           "y": [
            3,
            4
           ]
          }
         ],
         "layout": {
          "title": "End Title"
         }
        }
       ],
       "layout": {
        "autosize": true,
        "title": "Start Title",
        "updatemenus": [
         {
          "active": 0,
          "buttons": [
           {
            "args": [
             null
            ],
            "label": "Play",
            "method": "animate"
           }
          ],
          "type": "buttons"
         }
        ],
        "xaxis": {
         "autorange": false,
         "range": [
          0,
          5
         ],
         "type": "linear"
        },
        "yaxis": {
         "autorange": false,
         "range": [
          0,
          5
         ],
         "type": "linear"
        }
       }
      },
      "text/html": [
       "<div id=\"6a65eb26-2f93-402b-85e9-c026b298f305\" style=\"height: 525px; width: 100%;\" class=\"plotly-graph-div\"></div><script type=\"text/javascript\">require([\"plotly\"], function(Plotly) { window.PLOTLYENV=window.PLOTLYENV || {};window.PLOTLYENV.BASE_URL=\"https://plot.ly\";\n",
       "        Plotly.plot(\n",
       "            '6a65eb26-2f93-402b-85e9-c026b298f305',\n",
       "            [{\"x\": [0, 1], \"y\": [0, 1], \"type\": \"scatter\", \"uid\": \"c9254e89-3e80-4412-992f-2cdc803b5b8c\"}],\n",
       "            {\"title\": \"Start Title\", \"updatemenus\": [{\"buttons\": [{\"args\": [null], \"label\": \"Play\", \"method\": \"animate\"}], \"type\": \"buttons\"}], \"xaxis\": {\"autorange\": false, \"range\": [0, 5]}, \"yaxis\": {\"autorange\": false, \"range\": [0, 5]}},\n",
       "            {\"showLink\": true, \"linkText\": \"Export to plot.ly\", \"plotlyServerURL\": \"https://plot.ly\"}\n",
       "        ).then(function () {return Plotly.addFrames('6a65eb26-2f93-402b-85e9-c026b298f305',[{\"data\": [{\"x\": [1, 2], \"y\": [1, 2], \"type\": \"scatter\"}]}, {\"data\": [{\"x\": [1, 4], \"y\": [1, 4], \"type\": \"scatter\"}]}, {\"data\": [{\"x\": [3, 4], \"y\": [3, 4], \"type\": \"scatter\"}], \"layout\": {\"title\": \"End Title\"}}]);}).then(function(){Plotly.animate('6a65eb26-2f93-402b-85e9-c026b298f305');})\n",
       "        });</script><script type=\"text/javascript\">window.addEventListener(\"resize\", function(){window._Plotly.Plots.resize(document.getElementById(\"6a65eb26-2f93-402b-85e9-c026b298f305\"));});</script>"
      ],
      "text/vnd.plotly.v1+html": [
       "<div id=\"6a65eb26-2f93-402b-85e9-c026b298f305\" style=\"height: 525px; width: 100%;\" class=\"plotly-graph-div\"></div><script type=\"text/javascript\">require([\"plotly\"], function(Plotly) { window.PLOTLYENV=window.PLOTLYENV || {};window.PLOTLYENV.BASE_URL=\"https://plot.ly\";\n",
       "        Plotly.plot(\n",
       "            '6a65eb26-2f93-402b-85e9-c026b298f305',\n",
       "            [{\"x\": [0, 1], \"y\": [0, 1], \"type\": \"scatter\", \"uid\": \"c9254e89-3e80-4412-992f-2cdc803b5b8c\"}],\n",
       "            {\"title\": \"Start Title\", \"updatemenus\": [{\"buttons\": [{\"args\": [null], \"label\": \"Play\", \"method\": \"animate\"}], \"type\": \"buttons\"}], \"xaxis\": {\"autorange\": false, \"range\": [0, 5]}, \"yaxis\": {\"autorange\": false, \"range\": [0, 5]}},\n",
       "            {\"showLink\": true, \"linkText\": \"Export to plot.ly\", \"plotlyServerURL\": \"https://plot.ly\"}\n",
       "        ).then(function () {return Plotly.addFrames('6a65eb26-2f93-402b-85e9-c026b298f305',[{\"data\": [{\"x\": [1, 2], \"y\": [1, 2], \"type\": \"scatter\"}]}, {\"data\": [{\"x\": [1, 4], \"y\": [1, 4], \"type\": \"scatter\"}]}, {\"data\": [{\"x\": [3, 4], \"y\": [3, 4], \"type\": \"scatter\"}], \"layout\": {\"title\": \"End Title\"}}]);}).then(function(){Plotly.animate('6a65eb26-2f93-402b-85e9-c026b298f305');})\n",
       "        });</script><script type=\"text/javascript\">window.addEventListener(\"resize\", function(){window._Plotly.Plots.resize(document.getElementById(\"6a65eb26-2f93-402b-85e9-c026b298f305\"));});</script>"
      ]
     },
     "metadata": {},
     "output_type": "display_data"
    }
   ],
   "source": [
    "from plotly.offline import init_notebook_mode, iplot\n",
    "from IPython.display import display, HTML\n",
    "\n",
    "init_notebook_mode(connected=True)\n",
    "\n",
    "figure = {'data': [{'x': [0, 1], 'y': [0, 1]}],\n",
    "          'layout': {'xaxis': {'range': [0, 5], 'autorange': False},\n",
    "                     'yaxis': {'range': [0, 5], 'autorange': False},\n",
    "                     'title': 'Start Title',\n",
    "                     'updatemenus': [{'type': 'buttons',\n",
    "                                      'buttons': [{'label': 'Play',\n",
    "                                                   'method': 'animate',\n",
    "                                                   'args': [None]}]}]\n",
    "                    },\n",
    "          'frames': [{'data': [{'x': [1, 2], 'y': [1, 2]}]},\n",
    "                     {'data': [{'x': [1, 4], 'y': [1, 4]}]},\n",
    "                     {'data': [{'x': [3, 4], 'y': [3, 4]}],\n",
    "                      'layout': {'title': 'End Title'}}]}\n",
    "\n",
    "iplot(figure)"
   ]
  },
  {
   "cell_type": "code",
   "execution_count": null,
   "metadata": {},
   "outputs": [],
   "source": []
  }
 ],
 "metadata": {
  "kernelspec": {
   "display_name": "pca (py3)",
   "language": "python",
   "name": "pca"
  },
  "language_info": {
   "codemirror_mode": {
    "name": "ipython",
    "version": 3
   },
   "file_extension": ".py",
   "mimetype": "text/x-python",
   "name": "python",
   "nbconvert_exporter": "python",
   "pygments_lexer": "ipython3",
   "version": "3.7.1"
  }
 },
 "nbformat": 4,
 "nbformat_minor": 2
}
