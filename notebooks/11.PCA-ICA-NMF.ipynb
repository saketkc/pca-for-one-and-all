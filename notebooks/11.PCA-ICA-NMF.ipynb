{
 "cells": [
  {
   "cell_type": "markdown",
   "metadata": {},
   "source": [
    "# PCA vs ICA vs NMF"
   ]
  },
  {
   "cell_type": "code",
   "execution_count": null,
   "metadata": {},
   "outputs": [],
   "source": [
    "%pylab inline\n",
    "%load_ext blackcellmagic\n",
    "import numpy as np\n",
    "from numpy import linalg as LA\n",
    "\n",
    "import seaborn as sns\n",
    "\n",
    "from sklearn.decomposition import PCA\n",
    "from sklearn.decomposition import NMF\n",
    "from sklearn.decomposition import FastICA\n",
    "\n",
    "#sns.set_context('talk', font_scale=2)\n",
    "sns.set_style('white')"
   ]
  },
  {
   "cell_type": "code",
   "execution_count": 2,
   "metadata": {},
   "outputs": [],
   "source": [
    "colors1 = ['#66c2a5', '#fc8d62', '#8da0cb', '#e78ac3', '#a6d854']\n",
    "colors2 = ['#e41a1c', '#377eb8', '#4daf4a', '#984ea3', '#ff7f00']"
   ]
  },
  {
   "cell_type": "code",
   "execution_count": 3,
   "metadata": {},
   "outputs": [],
   "source": [
    "np.random.seed(42)\n",
    "mean = [2, 6]\n",
    "cov = [[0.1, 0], [0, 0.1]]  # diagonal covariance\n",
    "X = (\n",
    "    np.dot(np.random.rand(2, 2), np.random.randn(2, 100)).T\n",
    "    + 2\n",
    "    + np.random.rand(2, 100).T\n",
    ")\n",
    "Z = np.vstack([(np.random.multivariate_normal(mean, cov, 100).T).T, X])\n",
    "Z -= np.min(Z)\n",
    "\n",
    "Z_norm = Z - np.mean(Z) / Z.std()"
   ]
  },
  {
   "cell_type": "code",
   "execution_count": 4,
   "metadata": {},
   "outputs": [],
   "source": [
    "pca = PCA()\n",
    "S_pca_ = pca.fit(Z).transform(Z)\n",
    "# pca.components_: Principal axes in feature space, representing the directions of maximum variance in the data. The components are sorted by explained_variance_.\n",
    "# array, shape (n_components, n_features)\n",
    "pca_x_axis, pca_y_axis = pca.components_.T\n",
    "\n",
    "ica = FastICA(n_components=2)\n",
    "ica.fit(Z)\n",
    "# ica.mixing_: mixing_array, shape (n_features, n_components)\n",
    "# The pseudo-inverse of components_. It is the linear operator that maps independent sources to the data.\n",
    "ica_x_axis, ica_y_axis = ica.mixing_\n",
    "ica_x_axis /= LA.norm(ica_x_axis)\n",
    "ica_y_axis /= LA.norm(ica_y_axis)\n",
    "\n",
    "nmf_model = NMF(n_components=2, init=\"random\", random_state=0)\n",
    "W = nmf_model.fit_transform(Z)\n",
    "nmf_x_axis, nmf_y_axis = nmf_model.components_.T"
   ]
  },
  {
   "cell_type": "code",
   "execution_count": 8,
   "metadata": {},
   "outputs": [
    {
     "data": {
      "image/png": "[encoded data removed]",
      "text/plain": [
       "<Figure size 288x288 with 1 Axes>"
      ]
     },
     "metadata": {
      "needs_background": "light"
     },
     "output_type": "display_data"
    }
   ],
   "source": [
    "fig, ax = plt.subplots(figsize=(4, 4))\n",
    "\n",
    "ax.scatter(Z_norm[:, 0], Z_norm[:, 1], alpha=0.4, color=colors1[2])\n",
    "l1 = ax.quiver(\n",
    "    0,\n",
    "    0,\n",
    "    pca_x_axis,\n",
    "    pca_y_axis,\n",
    "    zorder=11,\n",
    "    width=0.01,\n",
    "    angles=\"xy\",\n",
    "    scale_units=\"xy\",\n",
    "    scale=1/2,\n",
    "    color=colors1[0],\n",
    ")\n",
    "l2 = ax.quiver(\n",
    "    1,\n",
    "    1,\n",
    "    ica_x_axis,\n",
    "    ica_y_axis,\n",
    "    zorder=11,\n",
    "    width=0.01,\n",
    "    angles=\"xy\",\n",
    "    scale_units=\"xy\",\n",
    "    scale=1/2,\n",
    "    color=colors1[1],\n",
    ")\n",
    "l3 = ax.quiver(\n",
    "    -2,\n",
    "    -2,\n",
    "    nmf_x_axis,\n",
    "    nmf_y_axis,\n",
    "    zorder=11,\n",
    "    width=0.01,\n",
    "    angles=\"xy\",\n",
    "    scale_units=\"xy\",\n",
    "    scale=1 / 2,\n",
    "    color=colors1[4],\n",
    ")\n",
    "plt.legend([l1, l2, l3], [\"PCA\", \"ICA\", \"NMF\"], frameon=False, bbox_to_anchor=(0,1.02,1,0.2), loc=\"lower left\",\n",
    "                mode=\"expand\", borderaxespad=0, ncol=3)\n",
    "fig.tight_layout()\n",
    "fig.savefig('pca_ica_nmf.pdf')\n",
    "fig.savefig('pca_ica_nmf.png', dpi=300)"
   ]
  }
 ],
 "metadata": {
  "kernelspec": {
   "display_name": "Python 3",
   "language": "python",
   "name": "python3"
  },
  "language_info": {
   "codemirror_mode": {
    "name": "ipython",
    "version": 3
   },
   "file_extension": ".py",
   "mimetype": "text/x-python",
   "name": "python",
   "nbconvert_exporter": "python",
   "pygments_lexer": "ipython3",
   "version": "3.7.3"
  }
 },
 "nbformat": 4,
 "nbformat_minor": 4
}
